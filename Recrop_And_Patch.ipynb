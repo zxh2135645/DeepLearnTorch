{
 "cells": [
  {
   "cell_type": "markdown",
   "metadata": {},
   "source": [
    "## Copy files to new directory with 202 selected images"
   ]
  },
  {
   "cell_type": "code",
   "execution_count": 3,
   "metadata": {
    "scrolled": true
   },
   "outputs": [],
   "source": [
    "import os \n",
    "from glob import glob\n",
    "import shutil\n",
    "from PIL import Image\n",
    "import numpy as np\n",
    "import re\n",
    "\n",
    "base_dir = 'D:\\Data\\CNNData_ForKhalid'\n",
    "img_glob = glob(os.path.join(base_dir, '*', 'LGE', 'img', '*'))\n",
    "mi_glob = glob(os.path.join(base_dir, '*', 'LGE', 'MI', '*'))\n",
    "myo_glob = glob(os.path.join(base_dir, '*', 'LGE', 'Myocardium', '*'))\n",
    "\n",
    "out_dir = os.path.join(base_dir, '..', 'CNNData_Recropped_Select')\n",
    "if not os.path.exists(out_dir):\n",
    "    os.mkdir(out_dir)\n",
    "\n",
    "img_dir = os.path.join(out_dir, 'TrainingDataTotal_Select')\n",
    "if not os.path.exists(img_dir):\n",
    "    os.mkdir(img_dir)\n",
    "    \n",
    "mi_dir = os.path.join(out_dir, 'LabelDataTotal_Select')\n",
    "if not os.path.exists(mi_dir):\n",
    "    os.mkdir(mi_dir)\n",
    "    \n",
    "myo_dir = os.path.join(out_dir, 'MaskDataTotal_Select')\n",
    "if not os.path.exists(myo_dir):\n",
    "    os.mkdir(myo_dir)\n",
    "    \n",
    "num_glob = glob(os.path.join('D:\\DeepLearn\\input\\AllInfarct_Masked_LGE_Select\\LabelDataTotal\\*'))\n",
    "\n",
    "num = []\n",
    "for f in num_glob:\n",
    "    num.append(f.split('\\\\')[-1].split('.')[0])\n",
    "    \n",
    "for i, n in enumerate(num):\n",
    "    f_glob = glob(os.path.join(base_dir, '*', 'LGE', 'img', n + '.mat'))\n",
    "    f = ''.join(f_glob)\n",
    "    shutil.copyfile(f, os.path.join(img_dir, n+'.mat'))\n",
    "    \n",
    "    name = f.split('\\\\')[-4]\n",
    "    name_glob = glob(os.path.join(base_dir, name, 'LGE', 'img', '*.mat'))\n",
    "    name_num = sorted([int(x.split('\\\\')[-1].split('.')[0]) for x in name_glob])\n",
    "\n",
    "    name_mi_glob = glob(os.path.join(base_dir, name, 'LGE', 'MI', '*.tif'))\n",
    "    name_mi_str = [x.split('\\\\')[-1] for x in name_mi_glob]\n",
    "    name_mi_num = sorted([int(''.join(re.findall(r'\\d+', x))) for x in name_mi_str])\n",
    "\n",
    "    name_myo_glob = glob(os.path.join(base_dir, name, 'LGE', 'Myocardium', '*.tif'))\n",
    "    name_myo_str = [x.split('\\\\')[-1] for x in name_myo_glob]\n",
    "    name_myo_num = sorted([int(''.join(re.findall(r'\\d+', x))) for x in name_myo_str])\n",
    "    \n",
    "    idx = name_num.index(int(n))\n",
    "    #print(name_mi_num[idx])\n",
    "    #print(name_myo_num[idx])\n",
    "    shutil.copyfile(os.path.join(base_dir, name, 'LGE', 'MI', 'MyoInfarct'+str(name_mi_num[idx])+'.tif'), os.path.join(mi_dir, n+'.tif'))\n",
    "    shutil.copyfile(os.path.join(base_dir, name, 'LGE', 'Myocardium', 'masked_myocardium'+str(name_myo_num[idx])+'.tif'), os.path.join(myo_dir, n+'.tif'))"
   ]
  },
  {
   "cell_type": "markdown",
   "metadata": {},
   "source": [
    "## Copy files to Training and Testing "
   ]
  },
  {
   "cell_type": "code",
   "execution_count": 4,
   "metadata": {},
   "outputs": [],
   "source": [
    "train_glob = glob(os.path.join('D:\\DeepLearn\\input\\AllInfarct_Masked_LGE_Select\\TrainingData\\*'))\n",
    "train_num = []\n",
    "for f in train_glob:\n",
    "    train_num.append(f.split('\\\\')[-1].split('.')[0])\n",
    "    \n",
    "test_num = list(set(num) - set(train_num))\n",
    "\n",
    "img_dir_train = os.path.join(out_dir, 'TrainingData_Select')\n",
    "if not os.path.exists(img_dir_train):\n",
    "    os.mkdir(img_dir_train)\n",
    "    \n",
    "mi_dir_train = os.path.join(out_dir, 'TrainingLabel_Select')\n",
    "if not os.path.exists(mi_dir_train):\n",
    "    os.mkdir(mi_dir_train)\n",
    "    \n",
    "myo_dir_train = os.path.join(out_dir, 'TrainingMask_Select')\n",
    "if not os.path.exists(myo_dir_train):\n",
    "    os.mkdir(myo_dir_train)\n",
    "    \n",
    "img_dir_test = os.path.join(out_dir, 'TestingData_Select')\n",
    "if not os.path.exists(img_dir_test):\n",
    "    os.mkdir(img_dir_test)\n",
    "    \n",
    "mi_dir_test = os.path.join(out_dir, 'TestingLabel_Select')\n",
    "if not os.path.exists(mi_dir_test):\n",
    "    os.mkdir(mi_dir_test)\n",
    "    \n",
    "myo_dir_test = os.path.join(out_dir, 'TestingMask_Select')\n",
    "if not os.path.exists(myo_dir_test):\n",
    "    os.mkdir(myo_dir_test)\n",
    "    \n",
    "for train in train_num:\n",
    "    shutil.copyfile(os.path.join(img_dir, train+'.mat'), os.path.join(img_dir_train, train+'.mat'))\n",
    "    shutil.copyfile(os.path.join(mi_dir, train+'.tif'), os.path.join(mi_dir_train, train+'.tif'))\n",
    "    shutil.copyfile(os.path.join(myo_dir, train+'.tif'), os.path.join(myo_dir_train, train+'.tif'))\n",
    "    \n",
    "    \n",
    "for testt in test_num:\n",
    "    shutil.copyfile(os.path.join(img_dir, testt+'.mat'), os.path.join(img_dir_test, testt+'.mat'))\n",
    "    shutil.copyfile(os.path.join(mi_dir, testt+'.tif'), os.path.join(mi_dir_test, testt+'.tif'))\n",
    "    shutil.copyfile(os.path.join(myo_dir, testt+'.tif'), os.path.join(myo_dir_test, testt+'.tif'))"
   ]
  },
  {
   "cell_type": "markdown",
   "metadata": {},
   "source": [
    "## Convert mat to tif"
   ]
  },
  {
   "cell_type": "code",
   "execution_count": 5,
   "metadata": {
    "scrolled": true
   },
   "outputs": [
    {
     "name": "stderr",
     "output_type": "stream",
     "text": [
      "C:\\Users\\ZhangX1\\AppData\\Local\\Continuum\\anaconda3\\envs\\JamesZhang\\lib\\site-packages\\ipykernel_launcher.py:48: DeprecationWarning: `imsave` is deprecated!\n",
      "`imsave` is deprecated in SciPy 1.0.0, and will be removed in 1.2.0.\n",
      "Use ``imageio.imwrite`` instead.\n",
      "C:\\Users\\ZhangX1\\AppData\\Local\\Continuum\\anaconda3\\envs\\JamesZhang\\lib\\site-packages\\ipykernel_launcher.py:61: DeprecationWarning: `imsave` is deprecated!\n",
      "`imsave` is deprecated in SciPy 1.0.0, and will be removed in 1.2.0.\n",
      "Use ``imageio.imwrite`` instead.\n",
      "C:\\Users\\ZhangX1\\AppData\\Local\\Continuum\\anaconda3\\envs\\JamesZhang\\lib\\site-packages\\ipykernel_launcher.py:74: DeprecationWarning: `imsave` is deprecated!\n",
      "`imsave` is deprecated in SciPy 1.0.0, and will be removed in 1.2.0.\n",
      "Use ``imageio.imwrite`` instead.\n"
     ]
    }
   ],
   "source": [
    "out_dir = os.path.join(base_dir, '..', 'CNNData_Recropped_Select_F')\n",
    "if not os.path.exists(out_dir):\n",
    "    os.mkdir(out_dir)\n",
    "\n",
    "img_dir = os.path.join(out_dir, 'TrainingDataTotal_Select')\n",
    "if not os.path.exists(img_dir):\n",
    "    os.mkdir(img_dir)\n",
    "    \n",
    "mi_dir = os.path.join(out_dir, 'LabelDataTotal_Select')\n",
    "if not os.path.exists(mi_dir):\n",
    "    os.mkdir(mi_dir)\n",
    "    \n",
    "myo_dir = os.path.join(out_dir, 'MaskDataTotal_Select')\n",
    "if not os.path.exists(myo_dir):\n",
    "    os.mkdir(myo_dir)\n",
    "    \n",
    "img_dir_train = os.path.join(out_dir, 'TrainingData_Select')\n",
    "if not os.path.exists(img_dir_train):\n",
    "    os.mkdir(img_dir_train)\n",
    "    \n",
    "mi_dir_train = os.path.join(out_dir, 'TrainingLabel_Select')\n",
    "if not os.path.exists(mi_dir_train):\n",
    "    os.mkdir(mi_dir_train)\n",
    "    \n",
    "myo_dir_train = os.path.join(out_dir, 'TrainingMask_Select')\n",
    "if not os.path.exists(myo_dir_train):\n",
    "    os.mkdir(myo_dir_train)\n",
    "    \n",
    "img_dir_test = os.path.join(out_dir, 'TestingData_Select')\n",
    "if not os.path.exists(img_dir_test):\n",
    "    os.mkdir(img_dir_test)\n",
    "    \n",
    "mi_dir_test = os.path.join(out_dir, 'TestingLabel_Select')\n",
    "if not os.path.exists(mi_dir_test):\n",
    "    os.mkdir(mi_dir_test)\n",
    "    \n",
    "myo_dir_test = os.path.join(out_dir, 'TestingMask_Select')\n",
    "if not os.path.exists(myo_dir_test):\n",
    "    os.mkdir(myo_dir_test)\n",
    "\n",
    "from scipy.io import loadmat\n",
    "import scipy.misc\n",
    "\n",
    "img_glob = glob(os.path.join(img_dir, '*.mat'))\n",
    "for img in img_glob:\n",
    "    lo = loadmat(img)\n",
    "    fname = img.split('\\\\')[-1].split('.')[0]\n",
    "    scipy.misc.imsave(os.path.join(img_dir, fname+'.tif'), lo['im_crop'])\n",
    "fileList = glob(os.path.join(img_dir, '*.mat'))\n",
    "# Iterate over the list of filepaths & remove each file.\n",
    "for filePath in fileList:\n",
    "    try:\n",
    "        os.remove(filePath)\n",
    "    except:\n",
    "        print(\"Error while deleting file : \", filePath)\n",
    "\n",
    "train_glob = glob(os.path.join(img_dir_train, '*.mat'))\n",
    "for img in train_glob:\n",
    "    lo = loadmat(img)\n",
    "    fname = img.split('\\\\')[-1].split('.')[0]\n",
    "    scipy.misc.imsave(os.path.join(img_dir_train, fname+'.tif'), lo['im_crop'])\n",
    "fileList = glob(os.path.join(img_dir_train, '*.mat'))\n",
    "# Iterate over the list of filepaths & remove each file.\n",
    "for filePath in fileList:\n",
    "    try:\n",
    "        os.remove(filePath)\n",
    "    except:\n",
    "        print(\"Error while deleting file : \", filePath)\n",
    "            \n",
    "test_glob = glob(os.path.join(img_dir_test, '*.mat'))\n",
    "for img in test_glob:\n",
    "    lo = loadmat(img)\n",
    "    fname = img.split('\\\\')[-1].split('.')[0]\n",
    "    scipy.misc.imsave(os.path.join(img_dir_test, fname+'.tif'), lo['im_crop'])\n",
    "    \n",
    "fileList = glob(os.path.join(img_dir_test, '*.mat'))\n",
    "# Iterate over the list of filepaths & remove each file.\n",
    "for filePath in fileList:\n",
    "    try:\n",
    "        os.remove(filePath)\n",
    "    except:\n",
    "        print(\"Error while deleting file : \", filePath)"
   ]
  },
  {
   "cell_type": "markdown",
   "metadata": {},
   "source": [
    "## Compare between ForKhalid and ForQC"
   ]
  },
  {
   "cell_type": "code",
   "execution_count": 50,
   "metadata": {},
   "outputs": [
    {
     "data": {
      "text/plain": [
       "set()"
      ]
     },
     "execution_count": 50,
     "metadata": {},
     "output_type": "execute_result"
    }
   ],
   "source": [
    "qc_glob = glob(os.path.join(base_dir, '..', 'CNNData_ForQC', '*', 'LGE', '*.tif'))\n",
    "qc = [x.split('\\\\')[-1].split('.')[0] for x in qc_glob]\n",
    "qc = set(qc)\n",
    "\n",
    "kh_glob = glob(os.path.join(base_dir, '*', 'LGE', 'img', '*.mat'))\n",
    "kh = [x.split('\\\\')[-1].split('.')[0] for x in kh_glob]\n",
    "kh = set(kh)\n",
    "\n",
    "qc-kh\n",
    "# Now they are equal 09/07/2019"
   ]
  },
  {
   "cell_type": "markdown",
   "metadata": {},
   "source": [
    "# Patch Starting from here"
   ]
  },
  {
   "cell_type": "markdown",
   "metadata": {},
   "source": [
    "## 09/09/2019"
   ]
  },
  {
   "cell_type": "code",
   "execution_count": 152,
   "metadata": {},
   "outputs": [],
   "source": [
    "import os \n",
    "from glob import glob\n",
    "import shutil\n",
    "from PIL import Image\n",
    "import numpy as np\n",
    "import re\n",
    "import scipy.misc\n",
    "\n",
    "base_dir = 'D:\\Data\\CNNData_Recropped_Select_F'\n",
    "img_glob = glob(os.path.join(base_dir, 'TrainingDataTotal_Select', '*.tif'))\n",
    "mi_glob = glob(os.path.join(base_dir, 'LabelDataTotal_Select', '*.tif'))\n",
    "myo_glob = glob(os.path.join(base_dir, 'MaskDataTotal_Select', '*.tif'))\n",
    "\n",
    "patch_size = 16\n",
    "stride = 1\n",
    "starting_x = 0\n",
    "starting_y = 0\n",
    "\n",
    "save_dir = 'D:\\Data\\CNNData_Recropped_Select_Patch' + str(patch_size)\n",
    "if not os.path.exists(save_dir):\n",
    "    os.mkdir(save_dir)\n",
    "    \n",
    "img_dir = os.path.join(save_dir, 'TrainingDataTotal_Select')\n",
    "if not os.path.exists(img_dir):\n",
    "    os.mkdir(img_dir)\n",
    "    \n",
    "mi_dir = os.path.join(save_dir, 'LabelDataTotal_Select')\n",
    "if not os.path.exists(mi_dir):\n",
    "    os.mkdir(mi_dir)\n",
    "    \n",
    "myo_dir = os.path.join(save_dir, 'MaskDataTotal_Select')\n",
    "if not os.path.exists(myo_dir):\n",
    "    os.mkdir(myo_dir)\n",
    "    \n",
    "for img in img_glob:\n",
    "    \n",
    "    img_array = np.array(Image.open(img))\n",
    "    x_max = np.shape(img_array)[0] - patch_size\n",
    "    y_max = np.shape(img_array)[1] - patch_size\n",
    "    fname = img.split('\\\\')[-1].split('.')[0]\n",
    "    count = 1;\n",
    "    mi_array = np.array(Image.open(os.path.join(base_dir, 'LabelDataTotal_Select', fname+'.tif')))\n",
    "    myo_array = np.array(Image.open(os.path.join(base_dir, 'MaskDataTotal_Select', fname+'.tif')))\n",
    "    for x in range(starting_x, x_max, stride):\n",
    "        for y in range(starting_y, y_max, stride):\n",
    "            img_crop = img_array[x:(x+patch_size), y:(y+patch_size)]\n",
    "            Image.fromarray(img_crop).save(os.path.join(img_dir, fname + '_' + str(count) + '.tif'))\n",
    "\n",
    "            mi_crop = mi_array[x:(x+patch_size), y:(y+patch_size)]\n",
    "            mi_crop = (mi_crop*255).astype(np.uint8)\n",
    "            Image.fromarray(mi_crop).save(os.path.join(mi_dir, fname + '_' + str(count) + '.tif'))\n",
    "            \n",
    "            myo_crop = myo_array[x:(x+patch_size), y:(y+patch_size)]\n",
    "            myo_crop = (myo_crop*255).astype(np.uint8)\n",
    "            Image.fromarray(myo_crop).save(os.path.join(myo_dir, fname + '_' + str(count) + '.tif'))\n",
    "            count = count + 1"
   ]
  },
  {
   "cell_type": "markdown",
   "metadata": {},
   "source": [
    "## Check Myocardium masks (Doesn't look good 09/18/2019)"
   ]
  },
  {
   "cell_type": "code",
   "execution_count": 114,
   "metadata": {},
   "outputs": [
    {
     "name": "stdout",
     "output_type": "stream",
     "text": [
      "26 54\n",
      "26 54\n"
     ]
    }
   ],
   "source": [
    "base_dir = 'D:\\Data\\CNNData_Recropped_Select_F'\n",
    "img_glob = glob(os.path.join(base_dir, 'TrainingDataTotal_Select', '*.tif'))\n",
    "mi_glob = glob(os.path.join(base_dir, 'LabelDataTotal_Select', '*.tif'))\n",
    "myo_glob = glob(os.path.join(base_dir, 'MaskDataTotal_Select', '*.tif'))\n",
    "\n",
    "patch_size = 16\n",
    "stride = 1\n",
    "starting_x = 0\n",
    "starting_y = 0\n",
    "\n",
    "img = img_glob[0]\n",
    "fname = img.split('\\\\')[-1].split('.')[0]\n",
    "img_array = np.array(Image.open(img))\n",
    "x_max = np.shape(img_array)[0] - patch_size\n",
    "y_max = np.shape(img_array)[1] - patch_size\n",
    "count = 1;\n",
    "\n",
    "save_dir = 'D:\\Data\\CNNData_Recropped_Select_Patch' + str(patch_size)\n",
    "myo_dir = os.path.join(save_dir, 'MaskDataTotal_Select_Test')\n",
    "if not os.path.exists(myo_dir):\n",
    "    os.mkdir(myo_dir)\n",
    "\n",
    "myo_array = np.array(Image.open(os.path.join(base_dir, 'MaskDataTotal_Select', fname+'.tif')))\n",
    "\n",
    "for x in range(starting_x, x_max, stride):\n",
    "        for y in range(starting_y, y_max, stride):\n",
    "            \n",
    "            myo_crop = myo_array[x:(x+patch_size), y:(y+patch_size)]\n",
    "            myo = Image.fromarray(myo_crop)\n",
    "            # myo.save(os.path.join(myo_dir, fname + '_' + str(count) + '.tif'))\n",
    "            if count == 2135:\n",
    "                print(x, y)\n",
    "                break\n",
    "            count = count + 1\n",
    "            \n",
    "        if count == 2135:\n",
    "                print(x, y)\n",
    "                break"
   ]
  },
  {
   "cell_type": "markdown",
   "metadata": {},
   "source": [
    "#### The diagnosis is that Image.fromarray did not work as I expected.\n",
    "#### need to convert (myo_crop*255).astype(np.uint8)"
   ]
  },
  {
   "cell_type": "markdown",
   "metadata": {},
   "source": [
    "## Rebalance the data"
   ]
  },
  {
   "cell_type": "markdown",
   "metadata": {},
   "source": [
    "### Glob all images"
   ]
  },
  {
   "cell_type": "code",
   "execution_count": 1,
   "metadata": {},
   "outputs": [],
   "source": [
    "import os \n",
    "from glob import glob\n",
    "import shutil\n",
    "from PIL import Image\n",
    "import numpy as np\n",
    "import re\n",
    "\n",
    "save_dir = 'D:\\Data\\CNNData_Recropped_Select_Patch16'\n",
    "img_dir = os.path.join(save_dir, 'TrainingDataTotal_Select')\n",
    "mi_dir = os.path.join(save_dir, 'LabelDataTotal_Select')\n",
    "myo_dir = os.path.join(save_dir, 'MaskDataTotal_Select')\n",
    "\n",
    "img_glob = glob(os.path.join(img_dir, '*.tif'))\n",
    "mi_glob = glob(os.path.join(mi_dir, '*.tif'))\n",
    "myo_glob = glob(os.path.join(myo_dir, '*.tif'))"
   ]
  },
  {
   "cell_type": "markdown",
   "metadata": {},
   "source": [
    "### Make new directories"
   ]
  },
  {
   "cell_type": "code",
   "execution_count": 8,
   "metadata": {},
   "outputs": [],
   "source": [
    "new_dir = 'D:\\Data\\CNNData_Recropped_Select_Patch_Rebla2'\n",
    "if not os.path.exists(new_dir):\n",
    "    os.mkdir(new_dir)\n",
    "    \n",
    "new_img_dir = os.path.join(new_dir, 'TrainingDataTotal_Select')\n",
    "if not os.path.exists(new_img_dir):\n",
    "    os.mkdir(new_img_dir)\n",
    "    \n",
    "new_mi_dir = os.path.join(new_dir, 'LabelDataTotal_Select')\n",
    "if not os.path.exists(new_mi_dir):\n",
    "    os.mkdir(new_mi_dir)\n",
    "    \n",
    "new_myo_dir = os.path.join(new_dir, 'MaskDataTotal_Select')\n",
    "if not os.path.exists(new_myo_dir):\n",
    "    os.mkdir(new_myo_dir)\n"
   ]
  },
  {
   "cell_type": "markdown",
   "metadata": {},
   "source": [
    "### Count positive images (In order to have its negative counterpart)"
   ]
  },
  {
   "cell_type": "code",
   "execution_count": 3,
   "metadata": {},
   "outputs": [
    {
     "name": "stdout",
     "output_type": "stream",
     "text": [
      "270228\n"
     ]
    }
   ],
   "source": [
    "count = 1\n",
    "img_flow_pos = []\n",
    "mi_flow_pos = []\n",
    "myo_flow_pos = []\n",
    "\n",
    "for i, mi in enumerate(mi_glob):\n",
    "    if np.sum(np.array(Image.open(mi))) > 255*4:\n",
    "        # larger than 1 pixel\n",
    "        mi_flow_pos.append(mi)\n",
    "        img_flow_pos.append(img_glob[i])\n",
    "        myo_flow_pos.append(myo_glob[i])\n",
    "        count = count + 1\n",
    "print(count)"
   ]
  },
  {
   "cell_type": "code",
   "execution_count": 17,
   "metadata": {},
   "outputs": [
    {
     "name": "stdout",
     "output_type": "stream",
     "text": [
      "553378\n"
     ]
    }
   ],
   "source": [
    "img_pool = [];\n",
    "count2 = 0\n",
    "for myo in myo_glob:\n",
    "    if np.sum(np.array(Image.open(myo))) > 255*4:\n",
    "        img_pool.append(myo)\n",
    "        count2 = count2 + 1\n",
    "\n",
    "print(count2)\n",
    "\n",
    "real_img_pool = [os.path.join(save_dir, x.split('\\\\')[-1]) for x in img_pool]"
   ]
  },
  {
   "cell_type": "markdown",
   "metadata": {},
   "source": [
    "### Negative images random sampling"
   ]
  },
  {
   "cell_type": "code",
   "execution_count": 32,
   "metadata": {},
   "outputs": [
    {
     "data": {
      "text/plain": [
       "270227"
      ]
     },
     "execution_count": 32,
     "metadata": {},
     "output_type": "execute_result"
    }
   ],
   "source": [
    "len(img_flow_pos)"
   ]
  },
  {
   "cell_type": "code",
   "execution_count": 31,
   "metadata": {},
   "outputs": [
    {
     "data": {
      "text/plain": [
       "553378"
      ]
     },
     "execution_count": 31,
     "metadata": {},
     "output_type": "execute_result"
    }
   ],
   "source": [
    "len(real_img_pool)"
   ]
  },
  {
   "cell_type": "code",
   "execution_count": 28,
   "metadata": {},
   "outputs": [
    {
     "data": {
      "text/plain": [
       "347630"
      ]
     },
     "execution_count": 28,
     "metadata": {},
     "output_type": "execute_result"
    }
   ],
   "source": [
    "# Doesn't make sense\n",
    "# Why?\n",
    "len(list(set(real_img_pool) - set(img_flow_pos)))"
   ]
  },
  {
   "cell_type": "code",
   "execution_count": 41,
   "metadata": {},
   "outputs": [],
   "source": [
    "import random\n",
    "# count = 334132\n",
    "# count should be count - 1\n",
    "count_neg = count - 455\n",
    "img_flow_neg = sorted(random.sample(list(set(img_glob) - set(img_flow_pos)), count_neg))\n",
    "\n",
    "for img in img_flow_neg:\n",
    "    # with .tif\n",
    "    fname = img.split('\\\\')[-1] \n",
    "    shutil.copyfile(img, os.path.join(new_img_dir, fname))\n",
    "    shutil.copyfile(os.path.join(mi_dir, fname), os.path.join(new_mi_dir, fname))\n",
    "    shutil.copyfile(os.path.join(myo_dir, fname), os.path.join(new_myo_dir, fname))\n",
    "                    \n",
    "for img in img_flow_pos:\n",
    "    fname = img.split('\\\\')[-1] # with .tif\n",
    "    shutil.copyfile(img, os.path.join(new_img_dir, fname))\n",
    "    shutil.copyfile(os.path.join(mi_dir, fname), os.path.join(new_mi_dir, fname))\n",
    "    shutil.copyfile(os.path.join(myo_dir, fname), os.path.join(new_myo_dir, fname))  "
   ]
  },
  {
   "cell_type": "markdown",
   "metadata": {},
   "source": [
    "## Split total into test and train"
   ]
  },
  {
   "cell_type": "code",
   "execution_count": 110,
   "metadata": {},
   "outputs": [],
   "source": [
    "# sorted(list(set(img_glob) - set(img_flow_pos) - set(img_flow_neg)))\n",
    "\n",
    "new_img_glob = glob(os.path.join(new_img_dir, \"*\"))\n",
    "f_names = [x.split('\\\\')[-1] for x in new_img_glob]\n",
    "\n",
    "for i in range(5):\n",
    "    random.shuffle(f_names)\n",
    "    \n",
    "\n",
    "n = int(len(f_names) / 5)\n",
    "\n",
    "def chunks(l, n):\n",
    "    \"\"\"Yield successive n-sized chunks from l.\"\"\"\n",
    "    for i in range(0, len(l), n):\n",
    "        yield l[i:i + n]\n",
    "\n",
    "import pandas as pd\n",
    "\n",
    "img_truc = list(chunks(f_names, n))\n",
    "\n",
    "pd_to_save = pd.DataFrame()\n",
    "pd_to_save['1'] = img_truc[0]\n",
    "pd_to_save['2'] = img_truc[1]\n",
    "pd_to_save['3'] = img_truc[2]\n",
    "pd_to_save['4'] = img_truc[3]\n",
    "pd_to_save['5'] = img_truc[4]"
   ]
  },
  {
   "cell_type": "markdown",
   "metadata": {},
   "source": [
    "### Save the csv"
   ]
  },
  {
   "cell_type": "code",
   "execution_count": 113,
   "metadata": {},
   "outputs": [],
   "source": [
    "pd_to_save.to_csv(os.path.join(new_dir, 'samples.csv'))"
   ]
  },
  {
   "cell_type": "code",
   "execution_count": 47,
   "metadata": {},
   "outputs": [],
   "source": [
    "import pandas as pd\n",
    "img_truc = pd.read_csv(os.path.join(new_dir, 'samples.csv'))"
   ]
  },
  {
   "cell_type": "markdown",
   "metadata": {},
   "source": [
    "### Copy files to Train and Test"
   ]
  },
  {
   "cell_type": "code",
   "execution_count": 55,
   "metadata": {},
   "outputs": [
    {
     "ename": "FileNotFoundError",
     "evalue": "[Errno 2] No such file or directory: 'D:\\\\Data\\\\CNNData_Recropped_Select_Patch_Rebla2\\\\TrainingDataTotal_Select\\\\195_1751.tif'",
     "output_type": "error",
     "traceback": [
      "\u001b[1;31m---------------------------------------------------------------------------\u001b[0m",
      "\u001b[1;31mFileNotFoundError\u001b[0m                         Traceback (most recent call last)",
      "\u001b[1;32m<ipython-input-55-2b8fbb48bdfc>\u001b[0m in \u001b[0;36m<module>\u001b[1;34m()\u001b[0m\n\u001b[0;32m     38\u001b[0m \u001b[1;33m\u001b[0m\u001b[0m\n\u001b[0;32m     39\u001b[0m \u001b[1;32mfor\u001b[0m \u001b[0mtestt\u001b[0m \u001b[1;32min\u001b[0m \u001b[0mtest_flow\u001b[0m\u001b[1;33m:\u001b[0m\u001b[1;33m\u001b[0m\u001b[0m\n\u001b[1;32m---> 40\u001b[1;33m     \u001b[0mshutil\u001b[0m\u001b[1;33m.\u001b[0m\u001b[0mcopyfile\u001b[0m\u001b[1;33m(\u001b[0m\u001b[0mos\u001b[0m\u001b[1;33m.\u001b[0m\u001b[0mpath\u001b[0m\u001b[1;33m.\u001b[0m\u001b[0mjoin\u001b[0m\u001b[1;33m(\u001b[0m\u001b[0mnew_img_dir\u001b[0m\u001b[1;33m,\u001b[0m \u001b[0mtestt\u001b[0m\u001b[1;33m)\u001b[0m\u001b[1;33m,\u001b[0m \u001b[0mos\u001b[0m\u001b[1;33m.\u001b[0m\u001b[0mpath\u001b[0m\u001b[1;33m.\u001b[0m\u001b[0mjoin\u001b[0m\u001b[1;33m(\u001b[0m\u001b[0mimg_dir_test\u001b[0m\u001b[1;33m,\u001b[0m \u001b[0mtestt\u001b[0m\u001b[1;33m)\u001b[0m\u001b[1;33m)\u001b[0m\u001b[1;33m\u001b[0m\u001b[0m\n\u001b[0m\u001b[0;32m     41\u001b[0m     \u001b[0mshutil\u001b[0m\u001b[1;33m.\u001b[0m\u001b[0mcopyfile\u001b[0m\u001b[1;33m(\u001b[0m\u001b[0mos\u001b[0m\u001b[1;33m.\u001b[0m\u001b[0mpath\u001b[0m\u001b[1;33m.\u001b[0m\u001b[0mjoin\u001b[0m\u001b[1;33m(\u001b[0m\u001b[0mnew_mi_dir\u001b[0m\u001b[1;33m,\u001b[0m \u001b[0mtestt\u001b[0m\u001b[1;33m)\u001b[0m\u001b[1;33m,\u001b[0m \u001b[0mos\u001b[0m\u001b[1;33m.\u001b[0m\u001b[0mpath\u001b[0m\u001b[1;33m.\u001b[0m\u001b[0mjoin\u001b[0m\u001b[1;33m(\u001b[0m\u001b[0mmi_dir_test\u001b[0m\u001b[1;33m,\u001b[0m \u001b[0mtestt\u001b[0m\u001b[1;33m)\u001b[0m\u001b[1;33m)\u001b[0m\u001b[1;33m\u001b[0m\u001b[0m\n\u001b[0;32m     42\u001b[0m     \u001b[0mshutil\u001b[0m\u001b[1;33m.\u001b[0m\u001b[0mcopyfile\u001b[0m\u001b[1;33m(\u001b[0m\u001b[0mos\u001b[0m\u001b[1;33m.\u001b[0m\u001b[0mpath\u001b[0m\u001b[1;33m.\u001b[0m\u001b[0mjoin\u001b[0m\u001b[1;33m(\u001b[0m\u001b[0mnew_myo_dir\u001b[0m\u001b[1;33m,\u001b[0m \u001b[0mtestt\u001b[0m\u001b[1;33m)\u001b[0m\u001b[1;33m,\u001b[0m \u001b[0mos\u001b[0m\u001b[1;33m.\u001b[0m\u001b[0mpath\u001b[0m\u001b[1;33m.\u001b[0m\u001b[0mjoin\u001b[0m\u001b[1;33m(\u001b[0m\u001b[0mmyo_dir_test\u001b[0m\u001b[1;33m,\u001b[0m \u001b[0mtestt\u001b[0m\u001b[1;33m)\u001b[0m\u001b[1;33m)\u001b[0m\u001b[1;33m\u001b[0m\u001b[0m\n",
      "\u001b[1;32m~\\AppData\\Local\\Continuum\\anaconda3\\envs\\JamesZhang\\lib\\shutil.py\u001b[0m in \u001b[0;36mcopyfile\u001b[1;34m(src, dst, follow_symlinks)\u001b[0m\n\u001b[0;32m    118\u001b[0m         \u001b[0mos\u001b[0m\u001b[1;33m.\u001b[0m\u001b[0msymlink\u001b[0m\u001b[1;33m(\u001b[0m\u001b[0mos\u001b[0m\u001b[1;33m.\u001b[0m\u001b[0mreadlink\u001b[0m\u001b[1;33m(\u001b[0m\u001b[0msrc\u001b[0m\u001b[1;33m)\u001b[0m\u001b[1;33m,\u001b[0m \u001b[0mdst\u001b[0m\u001b[1;33m)\u001b[0m\u001b[1;33m\u001b[0m\u001b[0m\n\u001b[0;32m    119\u001b[0m     \u001b[1;32melse\u001b[0m\u001b[1;33m:\u001b[0m\u001b[1;33m\u001b[0m\u001b[0m\n\u001b[1;32m--> 120\u001b[1;33m         \u001b[1;32mwith\u001b[0m \u001b[0mopen\u001b[0m\u001b[1;33m(\u001b[0m\u001b[0msrc\u001b[0m\u001b[1;33m,\u001b[0m \u001b[1;34m'rb'\u001b[0m\u001b[1;33m)\u001b[0m \u001b[1;32mas\u001b[0m \u001b[0mfsrc\u001b[0m\u001b[1;33m:\u001b[0m\u001b[1;33m\u001b[0m\u001b[0m\n\u001b[0m\u001b[0;32m    121\u001b[0m             \u001b[1;32mwith\u001b[0m \u001b[0mopen\u001b[0m\u001b[1;33m(\u001b[0m\u001b[0mdst\u001b[0m\u001b[1;33m,\u001b[0m \u001b[1;34m'wb'\u001b[0m\u001b[1;33m)\u001b[0m \u001b[1;32mas\u001b[0m \u001b[0mfdst\u001b[0m\u001b[1;33m:\u001b[0m\u001b[1;33m\u001b[0m\u001b[0m\n\u001b[0;32m    122\u001b[0m                 \u001b[0mcopyfileobj\u001b[0m\u001b[1;33m(\u001b[0m\u001b[0mfsrc\u001b[0m\u001b[1;33m,\u001b[0m \u001b[0mfdst\u001b[0m\u001b[1;33m)\u001b[0m\u001b[1;33m\u001b[0m\u001b[0m\n",
      "\u001b[1;31mFileNotFoundError\u001b[0m: [Errno 2] No such file or directory: 'D:\\\\Data\\\\CNNData_Recropped_Select_Patch_Rebla2\\\\TrainingDataTotal_Select\\\\195_1751.tif'"
     ]
    }
   ],
   "source": [
    "new_img_glob = glob(os.path.join(new_img_dir, \"*\"))\n",
    "f_names = [x.split('\\\\')[-1] for x in new_img_glob]\n",
    "\n",
    "img_dir_train = os.path.join(new_dir, 'TrainingData_Select')\n",
    "if not os.path.exists(img_dir_train):\n",
    "    os.mkdir(img_dir_train)\n",
    "    \n",
    "mi_dir_train = os.path.join(new_dir, 'TrainingLabel_Select')\n",
    "if not os.path.exists(mi_dir_train):\n",
    "    os.mkdir(mi_dir_train)\n",
    "    \n",
    "myo_dir_train = os.path.join(new_dir, 'TrainingMask_Select')\n",
    "if not os.path.exists(myo_dir_train):\n",
    "    os.mkdir(myo_dir_train)\n",
    "    \n",
    "img_dir_test = os.path.join(new_dir, 'TestingData_Select')\n",
    "if not os.path.exists(img_dir_test):\n",
    "    os.mkdir(img_dir_test)\n",
    "    \n",
    "mi_dir_test = os.path.join(new_dir, 'TestingLabel_Select')\n",
    "if not os.path.exists(mi_dir_test):\n",
    "    os.mkdir(mi_dir_test)\n",
    "    \n",
    "myo_dir_test = os.path.join(new_dir, 'TestingMask_Select')\n",
    "if not os.path.exists(myo_dir_test):\n",
    "    os.mkdir(myo_dir_test)\n",
    "\n",
    "#test_flow = img_truc[0]\n",
    "\n",
    "test_flow = img_truc['1']\n",
    "train_flow = list(set(f_names) - set(test_flow))\n",
    "    \n",
    "for train in train_flow:\n",
    "    shutil.copyfile(os.path.join(new_img_dir, train), os.path.join(img_dir_train, train))\n",
    "    shutil.copyfile(os.path.join(new_mi_dir, train), os.path.join(mi_dir_train, train))\n",
    "    shutil.copyfile(os.path.join(new_myo_dir, train), os.path.join(myo_dir_train, train))\n",
    "    \n",
    "    \n",
    "for testt in test_flow:\n",
    "    shutil.copyfile(os.path.join(new_img_dir, testt), os.path.join(img_dir_test, testt))\n",
    "    shutil.copyfile(os.path.join(new_mi_dir, testt), os.path.join(mi_dir_test, testt))\n",
    "    shutil.copyfile(os.path.join(new_myo_dir, testt), os.path.join(myo_dir_test, testt))"
   ]
  }
 ],
 "metadata": {
  "kernelspec": {
   "display_name": "Python 3",
   "language": "python",
   "name": "python3"
  },
  "language_info": {
   "codemirror_mode": {
    "name": "ipython",
    "version": 3
   },
   "file_extension": ".py",
   "mimetype": "text/x-python",
   "name": "python",
   "nbconvert_exporter": "python",
   "pygments_lexer": "ipython3",
   "version": "3.6.6"
  }
 },
 "nbformat": 4,
 "nbformat_minor": 2
}
