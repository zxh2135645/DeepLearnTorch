{
 "cells": [
  {
   "cell_type": "markdown",
   "metadata": {},
   "source": [
    "## Sampler for myocardium\n",
    "\n",
    "#### Read composite then output at the same base_dir and visualize"
   ]
  },
  {
   "cell_type": "code",
   "execution_count": 23,
   "metadata": {},
   "outputs": [],
   "source": [
    "import os \n",
    "from glob import glob\n",
    "import shutil\n",
    "from PIL import Image\n",
    "import numpy as np\n",
    "\n",
    "input_dir = 'D:\\Data\\CNNTrainingCrop64_Added'\n",
    "composite_data_total = glob(os.path.join(input_dir, 'CompositeLabelTotal', '*'))\n",
    "output_dir = os.path.join(input_dir, 'LabelMyoTotal')\n",
    "output_dir_vis = os.path.join(input_dir, 'LabelMyoTotal_Visualize')\n",
    "if not os.path.exists(output_dir):\n",
    "    os.mkdir(output_dir)\n",
    "\n",
    "if not os.path.exists(output_dir_vis):\n",
    "    os.mkdir(output_dir_vis)\n",
    "    \n",
    "for label in composite_data_total:\n",
    "    fname = label.split('\\\\')[-1]\n",
    "    composite = np.array(Image.open(label))\n",
    "    myocardium_bol = (composite == 2) | (composite == 4)\n",
    "    myocardium = np.zeros(myocardium_bol.shape)\n",
    "    myocardium[myocardium_bol == True] = 2\n",
    "    myocardium[myocardium_bol == False] = 1\n",
    "    \n",
    "    myocardium_visualize = np.zeros(myocardium_bol.shape)\n",
    "    myocardium_visualize[myocardium_bol == True] = 255\n",
    "    myocardium_visualize[myocardium_bol == False] = 0 \n",
    "    \n",
    "    im_myo = Image.fromarray(myocardium)\n",
    "    im_myo.save(os.path.join(output_dir, fname))\n",
    "    \n",
    "    im_myo_vis = Image.fromarray(myocardium_visualize)\n",
    "    im_myo_vis.save(os.path.join(output_dir_vis, fname))"
   ]
  },
  {
   "cell_type": "markdown",
   "metadata": {},
   "source": [
    "## Copy TrainingDataTotal and LabelDataTotal to input"
   ]
  },
  {
   "cell_type": "code",
   "execution_count": 24,
   "metadata": {},
   "outputs": [],
   "source": [
    "import os \n",
    "from glob import glob\n",
    "import shutil\n",
    "\n",
    "input_dir = 'D:\\Data\\CNNTrainingCrop64_Added'\n",
    "train_data_total = glob(os.path.join(input_dir, 'TrainingDataTotal', '*'))\n",
    "label_data_total = glob(os.path.join(input_dir, 'LabelMyoTotal', '*'))\n",
    "\n",
    "output_dir = 'D:\\DeepLearn\\input'\n",
    "output_dir_train = os.path.join(output_dir, 'TrainingDataTotal')\n",
    "output_dir_label = os.path.join(output_dir, 'LabelDataTotal')\n",
    "\n",
    "for train in train_data_total:\n",
    "    fname = train.split('\\\\')[-1]\n",
    "    shutil.copyfile(train, os.path.join(output_dir_train, fname))\n",
    "    \n",
    "for label in label_data_total:\n",
    "    fname = label.split('\\\\')[-1]\n",
    "    shutil.copyfile(label, os.path.join(output_dir_label, fname))  "
   ]
  },
  {
   "cell_type": "markdown",
   "metadata": {},
   "source": [
    "## Remove unqualified images based on QCToExclude"
   ]
  },
  {
   "cell_type": "code",
   "execution_count": 25,
   "metadata": {},
   "outputs": [],
   "source": [
    "from scipy.io import loadmat\n",
    "x = loadmat(os.path.join(input_dir, 'QCToExclude.mat'))\n",
    "exclude_array = x['exclude_array']\n",
    "\n",
    "flat_array = [item for sublist in exclude_array for item in sublist]\n",
    "numToExclude = sum(flat_array)"
   ]
  },
  {
   "cell_type": "markdown",
   "metadata": {},
   "source": [
    "## Random sampling"
   ]
  },
  {
   "cell_type": "code",
   "execution_count": 26,
   "metadata": {},
   "outputs": [
    {
     "name": "stdout",
     "output_type": "stream",
     "text": [
      "136.tif\n",
      "137.tif\n"
     ]
    }
   ],
   "source": [
    "import numpy as np\n",
    "import random\n",
    "train_glob = glob(os.path.join(output_dir_train, '*'))\n",
    "fnames = [train.split('\\\\')[-1] for train in train_glob]\n",
    "flat_array = [item for sublist in exclude_array for item in sublist]\n",
    "ex_list = []\n",
    "for i, e in enumerate(flat_array):\n",
    "    if e == 1:\n",
    "        print(fnames[i])\n",
    "        ex_list.append(fnames[i])\n",
    "        \n",
    "for ex in ex_list:\n",
    "    fnames.remove(ex)\n",
    "    \n",
    "if len(fnames)%5 != 0:\n",
    "    fnum = int(np.ceil(len(fnames)/5) * 5)\n",
    "else:\n",
    "    fnum = len(fnames)\n",
    "\n",
    "\n",
    "training_data = random.sample(fnames, int(fnum*0.8))\n",
    "training_set = set(training_data)\n",
    "total_set = set(fnames)\n",
    "testing_set = total_set - training_set\n",
    "testing_data = list(testing_set)"
   ]
  },
  {
   "cell_type": "markdown",
   "metadata": {},
   "source": [
    "## Copy data to each directory"
   ]
  },
  {
   "cell_type": "code",
   "execution_count": 27,
   "metadata": {},
   "outputs": [],
   "source": [
    "for train in training_data:\n",
    "    shutil.copyfile(os.path.join(os.path.join(output_dir, 'TrainingDataTotal', train)), os.path.join(output_dir, 'TrainingData',train))\n",
    "    shutil.copyfile(os.path.join(os.path.join(output_dir, 'LabelDataTotal', train)), os.path.join(output_dir, 'TrainingLabel',train))\n",
    "    \n",
    "for test in testing_data:\n",
    "    shutil.copyfile(os.path.join(os.path.join(output_dir, 'TrainingDataTotal', test)), os.path.join(output_dir, 'TestingData',test))\n",
    "    shutil.copyfile(os.path.join(os.path.join(output_dir, 'LabelDataTotal', test)), os.path.join(output_dir, 'TestingLabel',test))"
   ]
  }
 ],
 "metadata": {
  "kernelspec": {
   "display_name": "Python 3",
   "language": "python",
   "name": "python3"
  },
  "language_info": {
   "codemirror_mode": {
    "name": "ipython",
    "version": 3
   },
   "file_extension": ".py",
   "mimetype": "text/x-python",
   "name": "python",
   "nbconvert_exporter": "python",
   "pygments_lexer": "ipython3",
   "version": "3.6.6"
  }
 },
 "nbformat": 4,
 "nbformat_minor": 2
}
