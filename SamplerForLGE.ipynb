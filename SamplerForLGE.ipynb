{
 "cells": [
  {
   "cell_type": "markdown",
   "metadata": {},
   "source": [
    "## Sampler for LGE (With both Myocardium and Infarct)\n",
    "\n",
    "#### Copy data from CNNData_ForQC to input"
   ]
  },
  {
   "cell_type": "code",
   "execution_count": 42,
   "metadata": {},
   "outputs": [],
   "source": [
    "import os \n",
    "from glob import glob\n",
    "import shutil\n",
    "from PIL import Image\n",
    "import numpy as np\n",
    "\n",
    "input_dir = 'D:\\Data\\CNNData_ForQC'\n",
    "output_dir = 'D:\\DeepLearn\\input'\n",
    "name_glob = glob(os.path.join(input_dir, '*'))\n",
    "#name = [n.split('\\\\')[-1] for n in name_glob]\n",
    "\n",
    "for name_dir in name_glob:\n",
    "    tif_glob = glob(os.path.join(name_dir, 'LGE', '*.tif'))\n",
    "    idx = [t.split('\\\\')[-1].split('.')[0] for t in tif_glob]\n",
    "    myo_glob = glob(os.path.join(name_dir, 'LGE', 'Myocardium', '*'))\n",
    "    myo_idx = sorted([int(myo.split('\\\\')[-1].split('.')[0].split('m')[-1]) for myo in myo_glob])\n",
    "    \n",
    "    mi_glob = glob(os.path.join(name_dir, 'LGE', 'MI', '*'))\n",
    "    mi_idx =sorted([int(mi.split('\\\\')[-1].split('.')[0].split('t')[-1]) for mi in mi_glob])\n",
    "    \n",
    "    if len(myo_glob) == len(tif_glob) and len(mi_glob) == len(tif_glob):\n",
    "        for i, tif in enumerate(tif_glob):\n",
    "            fname = tif.split('\\\\')[-1]\n",
    "            myo_name = 'masked_myocardium' + str(myo_idx[i]) + '.tif'\n",
    "            mi_name = 'MyoInfarct' + str(mi_idx[i]) + '.tif'\n",
    "            shutil.copyfile(tif, os.path.join(output_dir, 'TrainingDataTotal', fname))\n",
    "            shutil.copyfile(os.path.join(name_dir, 'LGE', 'Myocardium', myo_name), os.path.join(output_dir, 'MaskDataTotal', fname))\n",
    "            shutil.copyfile(os.path.join(name_dir, 'LGE', 'MI', mi_name), os.path.join(output_dir, 'LabelDataTotal', fname))\n",
    "    else:\n",
    "        ValueError('The number does not match among Myocardium, Infarct and Original Image.')\n",
    "        "
   ]
  },
  {
   "cell_type": "markdown",
   "metadata": {},
   "source": [
    "## 492 images in total (Keeping all images)\n",
    "\n",
    "### 396 for training (40 for validating) and 356 for training, while 96 for testing"
   ]
  },
  {
   "cell_type": "code",
   "execution_count": 46,
   "metadata": {},
   "outputs": [],
   "source": [
    "import random\n",
    "img_glob = glob(os.path.join(output_dir, 'TrainingDataTotal', '*'))\n",
    "fnames = [f.split('\\\\')[-1] for f in img_glob]\n",
    "# Hard-coded for allocating images\n",
    "# 96 for testing\n",
    "fnum = len(img_glob)\n",
    "training_data = random.sample(fnames, (fnum - 96))\n",
    "training_set = set(training_data)\n",
    "total_set = set(fnames)\n",
    "testing_set = total_set - training_set\n",
    "testing_data = list(testing_set)"
   ]
  },
  {
   "cell_type": "markdown",
   "metadata": {},
   "source": [
    "## Copy data to each directory"
   ]
  },
  {
   "cell_type": "code",
   "execution_count": 49,
   "metadata": {},
   "outputs": [],
   "source": [
    "for train in training_data:\n",
    "    shutil.copyfile(os.path.join(output_dir, 'TrainingDataTotal', train), os.path.join(output_dir, 'TrainingData',train))\n",
    "    shutil.copyfile(os.path.join(output_dir, 'LabelDataTotal', train), os.path.join(output_dir, 'TrainingLabel',train))\n",
    "    shutil.copyfile(os.path.join(output_dir, 'MaskDataTotal', train), os.path.join(output_dir, 'TrainingMask', train))\n",
    "    \n",
    "for test in testing_data:\n",
    "    shutil.copyfile(os.path.join(output_dir, 'TrainingDataTotal', test), os.path.join(output_dir, 'TestingData',test))\n",
    "    shutil.copyfile(os.path.join(output_dir, 'LabelDataTotal', test), os.path.join(output_dir, 'TestingLabel',test))\n",
    "    shutil.copyfile(os.path.join(output_dir, 'MaskDataTotal', test), os.path.join(output_dir, 'TestingMask', test))"
   ]
  },
  {
   "cell_type": "markdown",
   "metadata": {},
   "source": [
    "## See if validation size is 1.6, it will count as 2 or 1 \n",
    "#### Answer is 2"
   ]
  },
  {
   "cell_type": "code",
   "execution_count": 43,
   "metadata": {},
   "outputs": [
    {
     "data": {
      "text/plain": [
       "[[0, 12, 7, 13, 4, 15, 5, 11, 14, 1, 2, 6, 3, 9], [16, 8]]"
      ]
     },
     "execution_count": 43,
     "metadata": {},
     "output_type": "execute_result"
    }
   ],
   "source": [
    "from sklearn.model_selection import train_test_split\n",
    "train_ds = [1,2,3,4,5,6,7,8,9,0,11,12,13,14,15,16]\n",
    "train_test_split(train_ds, test_size=0.1)"
   ]
  }
 ],
 "metadata": {
  "kernelspec": {
   "display_name": "Python 3",
   "language": "python",
   "name": "python3"
  },
  "language_info": {
   "codemirror_mode": {
    "name": "ipython",
    "version": 3
   },
   "file_extension": ".py",
   "mimetype": "text/x-python",
   "name": "python",
   "nbconvert_exporter": "python",
   "pygments_lexer": "ipython3",
   "version": "3.6.6"
  }
 },
 "nbformat": 4,
 "nbformat_minor": 2
}
