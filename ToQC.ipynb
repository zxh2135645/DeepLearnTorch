{
 "cells": [
  {
   "cell_type": "markdown",
   "metadata": {},
   "source": [
    "## Copy and convert images to web application"
   ]
  },
  {
   "cell_type": "code",
   "execution_count": 74,
   "metadata": {},
   "outputs": [],
   "source": [
    "from glob import glob\n",
    "import os\n",
    "import shutil\n",
    "from PIL import Image\n",
    "import numpy as np\n",
    "\n",
    "base_dir = 'C:/Users/ZhangX1/Documents/MATLAB/CNNTrainingCrop64/LabelDataTotal'\n",
    "img_dir = 'C:/Users/ZhangX1/Documents/MATLAB/CNNTrainingCrop64/TrainingDataTotal'\n",
    "out_dir = 'C:/Users/ZhangX1/Documents/BeatControl/static/img/ImgToQC/'\n",
    "size = (512, 512)\n",
    "\n",
    "label_glob = glob(os.path.join(base_dir, '*'))\n",
    "fname_glob = [f.split('\\\\')[-1] for f in label_glob]\n",
    "\n",
    "for fname in fname_glob:\n",
    "    img_file = os.path.join(img_dir, fname)\n",
    "    im = Image.open(img_file)\n",
    "    fnum = fname.split('.')[0]\n",
    "    dst = os.path.join(out_dir, 'T1_' + fnum + '.png')\n",
    "    im.save(dst)\n",
    "    \n",
    "for fname in fname_glob:\n",
    "    label_file = os.path.join(base_dir, fname)\n",
    "    label = Image.open(label_file)\n",
    "    unique_vals = np.unique(label)\n",
    "\n",
    "    label = np.array(label)\n",
    "    \n",
    "    if unique_vals[0] == 1:\n",
    "        label[label == unique_vals[0]] = 0\n",
    "        if len(unique_vals) == 2:\n",
    "            label[label == unique_vals[1]] = 1*255\n",
    "        else:\n",
    "            ValueError('Error')\n",
    "            \n",
    "    label = Image.fromarray(label).convert(\"RGBA\")\n",
    "    label = label.resize(size, Image.NEAREST)\n",
    "    pixdata = label.load()\n",
    "    width, height = label.size\n",
    "    for y in range(height):\n",
    "        for x in range(width):\n",
    "            if pixdata[x, y] == (0, 0, 0, 255):\n",
    "                pixdata[x, y] = (0, 0, 0, 0)\n",
    "                \n",
    "    \n",
    "    fnum = fname.split('.')[0]\n",
    "    dst = os.path.join(out_dir, 'Label_' + fnum + '.png')\n",
    "    label.save(dst)"
   ]
  },
  {
   "cell_type": "code",
   "execution_count": 76,
   "metadata": {},
   "outputs": [
    {
     "data": {
      "image/png": "[encoded data removed]",
      "text/plain": [
       "<PIL.Image.Image image mode=RGBA size=512x512 at 0x2706DE50FD0>"
      ]
     },
     "execution_count": 76,
     "metadata": {},
     "output_type": "execute_result"
    }
   ],
   "source": [
    "label"
   ]
  },
  {
   "cell_type": "code",
   "execution_count": 75,
   "metadata": {},
   "outputs": [
    {
     "data": {
      "text/plain": [
       "array([  0, 255], dtype=uint8)"
      ]
     },
     "execution_count": 75,
     "metadata": {},
     "output_type": "execute_result"
    }
   ],
   "source": [
    "np.unique(label)"
   ]
  }
 ],
 "metadata": {
  "kernelspec": {
   "display_name": "Python 3",
   "language": "python",
   "name": "python3"
  },
  "language_info": {
   "codemirror_mode": {
    "name": "ipython",
    "version": 3
   },
   "file_extension": ".py",
   "mimetype": "text/x-python",
   "name": "python",
   "nbconvert_exporter": "python",
   "pygments_lexer": "ipython3",
   "version": "3.6.6"
  }
 },
 "nbformat": 4,
 "nbformat_minor": 2
}
